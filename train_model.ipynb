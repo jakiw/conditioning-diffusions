{
 "cells": [
  {
   "cell_type": "code",
   "execution_count": null,
   "metadata": {},
   "outputs": [
    {
     "name": "stdout",
     "output_type": "stream",
     "text": [
      "Using Jax Device: [CudaDevice(id=0)]\n"
     ]
    },
    {
     "name": "stderr",
     "output_type": "stream",
     "text": [
      "WARNING:absl:Configured `CheckpointManager` using deprecated legacy API. Please follow the instructions at https://orbax.readthedocs.io/en/latest/api_refactor.html to migrate.\n"
     ]
    },
    {
     "name": "stdout",
     "output_type": "stream",
     "text": [
      "initializing\n"
     ]
    },
    {
     "name": "stderr",
     "output_type": "stream",
     "text": [
      "WARNING:absl:[process=0][thread=MainThread] No metadata found for any process_index, checkpoint_dir=/home/ubuntu/WashingtonMain/conditioning-diffusions/flow_matching_jax/workdir/fashion_mnist/10500/default. time elapsed=0.00024700164794921875 seconds. If the checkpoint does not contain jax.Array then it is expected. If checkpoint contains jax.Array then it should lead to an error eventually; if no error is raised then it is a bug.\n"
     ]
    },
    {
     "data": {
      "text/html": [
       "Tracking run with wandb version 0.19.8"
      ],
      "text/plain": [
       "<IPython.core.display.HTML object>"
      ]
     },
     "metadata": {},
     "output_type": "display_data"
    },
    {
     "data": {
      "text/html": [
       "Run data is saved locally in <code>/home/ubuntu/WashingtonMain/conditioning-diffusions/wandb/run-20250326_142630-wmtx3g3j</code>"
      ],
      "text/plain": [
       "<IPython.core.display.HTML object>"
      ]
     },
     "metadata": {},
     "output_type": "display_data"
    },
    {
     "data": {
      "text/html": [
       "Syncing run <strong><a href='https://wandb.ai/jakiwteam/conditioning-diffusion-models/runs/wmtx3g3j' target=\"_blank\">rich-butterfly-19</a></strong> to <a href='https://wandb.ai/jakiwteam/conditioning-diffusion-models' target=\"_blank\">Weights & Biases</a> (<a href='https://wandb.me/developer-guide' target=\"_blank\">docs</a>)<br>"
      ],
      "text/plain": [
       "<IPython.core.display.HTML object>"
      ]
     },
     "metadata": {},
     "output_type": "display_data"
    },
    {
     "data": {
      "text/html": [
       " View project at <a href='https://wandb.ai/jakiwteam/conditioning-diffusion-models' target=\"_blank\">https://wandb.ai/jakiwteam/conditioning-diffusion-models</a>"
      ],
      "text/plain": [
       "<IPython.core.display.HTML object>"
      ]
     },
     "metadata": {},
     "output_type": "display_data"
    },
    {
     "data": {
      "text/html": [
       " View run at <a href='https://wandb.ai/jakiwteam/conditioning-diffusion-models/runs/wmtx3g3j' target=\"_blank\">https://wandb.ai/jakiwteam/conditioning-diffusion-models/runs/wmtx3g3j</a>"
      ],
      "text/plain": [
       "<IPython.core.display.HTML object>"
      ]
     },
     "metadata": {},
     "output_type": "display_data"
    },
    {
     "name": "stderr",
     "output_type": "stream",
     "text": [
      "Model Training:   0%|          | 0/1000 [00:00<?, ?it/s]"
     ]
    },
    {
     "name": "stdout",
     "output_type": "stream",
     "text": [
      "run sde is recompiled\n"
     ]
    },
    {
     "name": "stderr",
     "output_type": "stream",
     "text": [
      "Model Training:   5%|▍         | 49/1000 [00:52<06:14,  2.54it/s] "
     ]
    },
    {
     "name": "stdout",
     "output_type": "stream",
     "text": [
      "run sde is recompiled\n"
     ]
    },
    {
     "name": "stderr",
     "output_type": "stream",
     "text": [
      "Model Training:   5%|▌         | 51/1000 [01:01<33:46,  2.14s/it]"
     ]
    },
    {
     "name": "stdout",
     "output_type": "stream",
     "text": [
      "Writing scalar\n"
     ]
    },
    {
     "name": "stderr",
     "output_type": "stream",
     "text": [
      "Model Training:  10%|▉         | 99/1000 [01:20<05:54,  2.54it/s]"
     ]
    },
    {
     "name": "stdout",
     "output_type": "stream",
     "text": [
      "run sde is recompiled\n"
     ]
    },
    {
     "name": "stderr",
     "output_type": "stream",
     "text": [
      "Model Training:  10%|█         | 101/1000 [01:28<30:26,  2.03s/it]"
     ]
    },
    {
     "name": "stdout",
     "output_type": "stream",
     "text": [
      "Writing scalar\n"
     ]
    },
    {
     "name": "stderr",
     "output_type": "stream",
     "text": [
      "Model Training:  15%|█▍        | 149/1000 [01:47<05:34,  2.54it/s]"
     ]
    },
    {
     "name": "stdout",
     "output_type": "stream",
     "text": [
      "run sde is recompiled\n"
     ]
    },
    {
     "name": "stderr",
     "output_type": "stream",
     "text": [
      "Model Training:  15%|█▌        | 151/1000 [01:56<28:26,  2.01s/it]"
     ]
    },
    {
     "name": "stdout",
     "output_type": "stream",
     "text": [
      "Writing scalar\n"
     ]
    },
    {
     "name": "stderr",
     "output_type": "stream",
     "text": [
      "Model Training:  20%|█▉        | 199/1000 [02:15<05:15,  2.54it/s]"
     ]
    },
    {
     "name": "stdout",
     "output_type": "stream",
     "text": [
      "run sde is recompiled\n"
     ]
    },
    {
     "name": "stderr",
     "output_type": "stream",
     "text": [
      "Model Training:  20%|██        | 201/1000 [02:23<26:48,  2.01s/it]"
     ]
    },
    {
     "name": "stdout",
     "output_type": "stream",
     "text": [
      "Writing scalar\n"
     ]
    },
    {
     "name": "stderr",
     "output_type": "stream",
     "text": [
      "Model Training:  25%|██▍       | 249/1000 [02:42<04:55,  2.54it/s]"
     ]
    },
    {
     "name": "stdout",
     "output_type": "stream",
     "text": [
      "run sde is recompiled\n"
     ]
    },
    {
     "name": "stderr",
     "output_type": "stream",
     "text": [
      "Model Training:  25%|██▌       | 251/1000 [02:53<30:10,  2.42s/it]"
     ]
    },
    {
     "name": "stdout",
     "output_type": "stream",
     "text": [
      "Writing scalar\n"
     ]
    },
    {
     "name": "stderr",
     "output_type": "stream",
     "text": [
      "Model Training:  30%|██▉       | 299/1000 [03:12<04:35,  2.54it/s]"
     ]
    },
    {
     "name": "stdout",
     "output_type": "stream",
     "text": [
      "run sde is recompiled\n"
     ]
    },
    {
     "name": "stderr",
     "output_type": "stream",
     "text": [
      "Model Training:  30%|███       | 301/1000 [03:21<24:32,  2.11s/it]"
     ]
    },
    {
     "name": "stdout",
     "output_type": "stream",
     "text": [
      "Writing scalar\n"
     ]
    },
    {
     "name": "stderr",
     "output_type": "stream",
     "text": [
      "Model Training:  35%|███▍      | 349/1000 [03:40<04:16,  2.54it/s]"
     ]
    },
    {
     "name": "stdout",
     "output_type": "stream",
     "text": [
      "run sde is recompiled\n"
     ]
    },
    {
     "name": "stderr",
     "output_type": "stream",
     "text": [
      "Model Training:  35%|███▌      | 351/1000 [03:48<22:07,  2.05s/it]"
     ]
    },
    {
     "name": "stdout",
     "output_type": "stream",
     "text": [
      "Writing scalar\n"
     ]
    },
    {
     "name": "stderr",
     "output_type": "stream",
     "text": [
      "Model Training:  40%|███▉      | 399/1000 [04:07<03:56,  2.54it/s]"
     ]
    },
    {
     "name": "stdout",
     "output_type": "stream",
     "text": [
      "run sde is recompiled\n"
     ]
    },
    {
     "name": "stderr",
     "output_type": "stream",
     "text": [
      "Model Training:  40%|████      | 401/1000 [04:16<20:49,  2.09s/it]"
     ]
    },
    {
     "name": "stdout",
     "output_type": "stream",
     "text": [
      "Writing scalar\n"
     ]
    },
    {
     "name": "stderr",
     "output_type": "stream",
     "text": [
      "Model Training:  45%|████▍     | 449/1000 [04:35<03:37,  2.54it/s]"
     ]
    },
    {
     "name": "stdout",
     "output_type": "stream",
     "text": [
      "run sde is recompiled\n"
     ]
    },
    {
     "name": "stderr",
     "output_type": "stream",
     "text": [
      "Model Training:  45%|████▌     | 451/1000 [04:44<18:54,  2.07s/it]"
     ]
    },
    {
     "name": "stdout",
     "output_type": "stream",
     "text": [
      "Writing scalar\n"
     ]
    },
    {
     "name": "stderr",
     "output_type": "stream",
     "text": [
      "Model Training:  50%|████▉     | 499/1000 [05:03<03:17,  2.54it/s]"
     ]
    },
    {
     "name": "stdout",
     "output_type": "stream",
     "text": [
      "run sde is recompiled\n"
     ]
    },
    {
     "name": "stderr",
     "output_type": "stream",
     "text": [
      "Model Training:  50%|█████     | 501/1000 [05:12<17:07,  2.06s/it]"
     ]
    },
    {
     "name": "stdout",
     "output_type": "stream",
     "text": [
      "Writing scalar\n"
     ]
    },
    {
     "name": "stderr",
     "output_type": "stream",
     "text": [
      "Model Training:  55%|█████▍    | 549/1000 [05:31<02:57,  2.54it/s]"
     ]
    },
    {
     "name": "stdout",
     "output_type": "stream",
     "text": [
      "run sde is recompiled\n"
     ]
    },
    {
     "name": "stderr",
     "output_type": "stream",
     "text": [
      "Model Training:  55%|█████▌    | 551/1000 [05:39<15:17,  2.04s/it]"
     ]
    },
    {
     "name": "stdout",
     "output_type": "stream",
     "text": [
      "Writing scalar\n"
     ]
    },
    {
     "name": "stderr",
     "output_type": "stream",
     "text": [
      "Model Training:  60%|█████▉    | 599/1000 [05:58<02:37,  2.54it/s]"
     ]
    },
    {
     "name": "stdout",
     "output_type": "stream",
     "text": [
      "run sde is recompiled\n"
     ]
    },
    {
     "name": "stderr",
     "output_type": "stream",
     "text": [
      "Model Training:  60%|██████    | 601/1000 [06:09<15:59,  2.40s/it]"
     ]
    },
    {
     "name": "stdout",
     "output_type": "stream",
     "text": [
      "Writing scalar\n"
     ]
    },
    {
     "name": "stderr",
     "output_type": "stream",
     "text": [
      "Model Training:  65%|██████▍   | 649/1000 [06:28<02:18,  2.54it/s]"
     ]
    },
    {
     "name": "stdout",
     "output_type": "stream",
     "text": [
      "run sde is recompiled\n"
     ]
    },
    {
     "name": "stderr",
     "output_type": "stream",
     "text": [
      "Model Training:  65%|██████▌   | 651/1000 [06:36<11:57,  2.06s/it]"
     ]
    },
    {
     "name": "stdout",
     "output_type": "stream",
     "text": [
      "Writing scalar\n"
     ]
    },
    {
     "name": "stderr",
     "output_type": "stream",
     "text": [
      "Model Training:  70%|██████▉   | 699/1000 [06:55<01:58,  2.54it/s]"
     ]
    },
    {
     "name": "stdout",
     "output_type": "stream",
     "text": [
      "run sde is recompiled\n"
     ]
    },
    {
     "name": "stderr",
     "output_type": "stream",
     "text": [
      "Model Training:  70%|███████   | 701/1000 [07:04<10:08,  2.04s/it]"
     ]
    },
    {
     "name": "stdout",
     "output_type": "stream",
     "text": [
      "Writing scalar\n"
     ]
    },
    {
     "name": "stderr",
     "output_type": "stream",
     "text": [
      "Model Training:  75%|███████▍  | 749/1000 [07:23<01:38,  2.54it/s]"
     ]
    },
    {
     "name": "stdout",
     "output_type": "stream",
     "text": [
      "run sde is recompiled\n"
     ]
    },
    {
     "name": "stderr",
     "output_type": "stream",
     "text": [
      "Model Training:  75%|███████▌  | 751/1000 [07:32<08:28,  2.04s/it]"
     ]
    },
    {
     "name": "stdout",
     "output_type": "stream",
     "text": [
      "Writing scalar\n"
     ]
    },
    {
     "name": "stderr",
     "output_type": "stream",
     "text": [
      "Model Training:  80%|███████▉  | 799/1000 [07:50<01:19,  2.54it/s]"
     ]
    },
    {
     "name": "stdout",
     "output_type": "stream",
     "text": [
      "run sde is recompiled\n"
     ]
    },
    {
     "name": "stderr",
     "output_type": "stream",
     "text": [
      "Model Training:  80%|████████  | 801/1000 [07:59<06:43,  2.03s/it]"
     ]
    },
    {
     "name": "stdout",
     "output_type": "stream",
     "text": [
      "Writing scalar\n"
     ]
    },
    {
     "name": "stderr",
     "output_type": "stream",
     "text": [
      "Model Training:  85%|████████▍ | 849/1000 [08:18<00:59,  2.54it/s]"
     ]
    },
    {
     "name": "stdout",
     "output_type": "stream",
     "text": [
      "run sde is recompiled\n"
     ]
    },
    {
     "name": "stderr",
     "output_type": "stream",
     "text": [
      "Model Training:  85%|████████▌ | 851/1000 [08:29<06:01,  2.43s/it]"
     ]
    },
    {
     "name": "stdout",
     "output_type": "stream",
     "text": [
      "Writing scalar\n"
     ]
    },
    {
     "name": "stderr",
     "output_type": "stream",
     "text": [
      "Model Training:  90%|████████▉ | 899/1000 [08:47<00:39,  2.54it/s]"
     ]
    },
    {
     "name": "stdout",
     "output_type": "stream",
     "text": [
      "run sde is recompiled\n"
     ]
    },
    {
     "name": "stderr",
     "output_type": "stream",
     "text": [
      "Model Training:  90%|█████████ | 901/1000 [08:57<03:28,  2.11s/it]"
     ]
    },
    {
     "name": "stdout",
     "output_type": "stream",
     "text": [
      "Writing scalar\n"
     ]
    },
    {
     "name": "stderr",
     "output_type": "stream",
     "text": [
      "Model Training:  95%|█████████▍| 949/1000 [09:15<00:20,  2.55it/s]"
     ]
    },
    {
     "name": "stdout",
     "output_type": "stream",
     "text": [
      "run sde is recompiled\n"
     ]
    },
    {
     "name": "stderr",
     "output_type": "stream",
     "text": [
      "Model Training:  95%|█████████▌| 951/1000 [09:24<01:41,  2.08s/it]"
     ]
    },
    {
     "name": "stdout",
     "output_type": "stream",
     "text": [
      "Writing scalar\n"
     ]
    },
    {
     "name": "stderr",
     "output_type": "stream",
     "text": [
      "Model Training: 100%|█████████▉| 999/1000 [09:43<00:00,  2.54it/s]"
     ]
    },
    {
     "name": "stdout",
     "output_type": "stream",
     "text": [
      "run sde is recompiled\n"
     ]
    },
    {
     "name": "stderr",
     "output_type": "stream",
     "text": [
      "Model Training: 100%|██████████| 1000/1000 [09:52<00:00,  1.69it/s]"
     ]
    },
    {
     "name": "stdout",
     "output_type": "stream",
     "text": [
      "Writing scalar\n"
     ]
    },
    {
     "name": "stderr",
     "output_type": "stream",
     "text": [
      "\n"
     ]
    },
    {
     "data": {
      "text/html": [],
      "text/plain": [
       "<IPython.core.display.HTML object>"
      ]
     },
     "metadata": {},
     "output_type": "display_data"
    },
    {
     "data": {
      "text/html": [
       " View run <strong style=\"color:#cdcd00\">rich-butterfly-19</strong> at: <a href='https://wandb.ai/jakiwteam/conditioning-diffusion-models/runs/wmtx3g3j' target=\"_blank\">https://wandb.ai/jakiwteam/conditioning-diffusion-models/runs/wmtx3g3j</a><br> View project at: <a href='https://wandb.ai/jakiwteam/conditioning-diffusion-models' target=\"_blank\">https://wandb.ai/jakiwteam/conditioning-diffusion-models</a><br>Synced 5 W&B file(s), 20 media file(s), 0 artifact file(s) and 0 other file(s)"
      ],
      "text/plain": [
       "<IPython.core.display.HTML object>"
      ]
     },
     "metadata": {},
     "output_type": "display_data"
    },
    {
     "data": {
      "text/html": [
       "Find logs at: <code>./wandb/run-20250326_142630-wmtx3g3j/logs</code>"
      ],
      "text/plain": [
       "<IPython.core.display.HTML object>"
      ]
     },
     "metadata": {},
     "output_type": "display_data"
    }
   ],
   "source": [
    "import os\n",
    "import pickle\n",
    "\n",
    "import jax\n",
    "# jax.config.update(\"jax_debug_nans\", True)\n",
    "# jax.config.update(\"jax_disable_jit\", True)\n",
    "\n",
    "import jax.numpy as jnp\n",
    "import pandas as pd\n",
    "from jax import random\n",
    "\n",
    "from metrics.metrics import get_energy_metric\n",
    "\n",
    "from helpers import apply_function\n",
    "from losses.loss_and_model import loss_model_bel, loss_model_no_train, loss_model_reparam\n",
    "from problems.toy_problems import dm_toy_problem, double_well_toy_problem, double_well_toy_problem_opening, ou_toy_problem\n",
    "from training.train_model import train_model\n",
    "from problems.diffusion_model import get_problem as get_problem_dm\n",
    "\n",
    "import datetime\n",
    "import tensorflow as tf\n",
    "from tensorboard.plugins.hparams import api as hp\n",
    "\n",
    "from flow_matching_jax.configs.fashion_mnist import get_config\n",
    "import wandb\n",
    "from helpers import apply_nn_drift_sde, apply_nn_drift_sde_y_free, apply_nn_drift_y_free\n",
    "from sdes import sdes\n",
    "from sdes.run_sde_euler_maryuama import run_sde\n",
    "from jax import vmap\n",
    "import matplotlib.pyplot as plt\n",
    "\n",
    "print(f\"Using Jax Device: {jax.devices()}\")\n",
    "\n",
    "log_dir = \"logs/diffusion_model\"\n",
    "writer = tf.summary.create_file_writer(log_dir)\n",
    "\n",
    "# dim = 1\n",
    "ts = jnp.linspace(0, 1, 100, dtype=jnp.float32)\n",
    "\n",
    "# loss_models = [\n",
    "#     {\"function\": loss_model_bel, \"args\": (\"first\",)},\n",
    "#     # {\"function\": loss_model_bel, \"args\": (\"average\",)},\n",
    "#     # {\"function\": loss_model_bel, \"args\": (\"first\",)},\n",
    "#     # {\"function\": loss_model_bel, \"args\": (\"last\",)},\n",
    "#     # {\"function\": loss_model_reparam, \"args\": ()},\n",
    "#     # {\"function\": loss_model_no_train, \"args\": ()},\n",
    "# ]\n",
    "\n",
    "config = get_config()\n",
    "workdir = \"/home/ubuntu/WashingtonMain/conditioning-diffusions/flow_matching_jax/workdir/fashion_mnist\"\n",
    "problem = get_problem_dm(config, workdir)\n",
    "# problems = [double_well_toy_problem(3, D=dim), dm_toy_problem(D=dim),  ou_toy_problem(2, D=dim), ou_toy_problem(-2, D=dim), ou_toy_problem(0, D=dim)]\n",
    "loss_model = loss_model_bel(\"first\")\n",
    "\n",
    "# jax.config.update('jax_log_compiles', True)\n",
    "\n",
    "config_template = {\n",
    "    \"seed\": 1995,\n",
    "    \"loss_model\": \"NOT DEFINED\",\n",
    "    \"problem\": \"NOT DEFINED\",\n",
    "    \"N_batches\": 5000,\n",
    "    \"N_log\": 100,\n",
    "    \"N_samples_eval\": 16,\n",
    "    \"N_batch_size\": 32,\n",
    "    \"ts\": ts,\n",
    "    \"n_rngs\": 1,\n",
    "}\n",
    "\n",
    "rng = random.PRNGKey(config_template[\"seed\"])\n",
    "rngs = random.split(rng, config_template[\"n_rngs\"])\n",
    "\n",
    "experiment_dir = f\"temp\"\n",
    "os.makedirs(experiment_dir, exist_ok=True)  # Create the directory if it doesn't exist\n",
    "timestamp = datetime.datetime.now().strftime(\"%H%M%S-%m%d\")\n",
    "run_dir = f\"{log_dir}/run-{timestamp}\"\n",
    "writer = tf.summary.create_file_writer(run_dir)\n",
    "\n",
    "sde, metrics, y_obs, y_init_eval, problem_name = problem\n",
    "loss_function, nn_model, loss_name = loss_model\n",
    "\n",
    "from flow_matching_jax.models.conditional_unet import Unet as ConditionalUnet\n",
    "nn_model = ConditionalUnet(\n",
    "    dim = 64,\n",
    "    dim_mults = (1, 2)\n",
    ")\n",
    "\n",
    "_t = 0.0\n",
    "_y = y_init_eval\n",
    "nn_params = nn_model.init(rng, _t, _y, _y)\n",
    "\n",
    "wandb.init(project=\"conditioning-diffusion-models\")\n",
    "\n",
    "N_samples = config_template[\"N_samples_eval\"]\n",
    "y_init_eval_arr = jnp.repeat(y_init_eval[jnp.newaxis, ...], N_samples, axis=0)\n",
    "\n",
    "\n",
    "def log_image_grid(images, label=\"image_grid\"):\n",
    "    N, W, H, C = images.shape\n",
    "    n = int(jnp.sqrt(N))\n",
    "    assert n * n == N, \"N must be a perfect square\"\n",
    "\n",
    "    fig, axs = plt.subplots(n, n, figsize=(n, n))\n",
    "    axs = axs.reshape(-1)  # flatten in case axs is 2D\n",
    "\n",
    "    for i in range(N):\n",
    "        axs[i].imshow(images[i])\n",
    "        axs[i].axis('off')\n",
    "\n",
    "    for ax in axs[N:]:\n",
    "        ax.axis('off')\n",
    "\n",
    "    wandb.log({label: wandb.Image(fig)})\n",
    "    plt.close(fig)\n",
    "\n",
    "def sample_metric(rng, nn_model, nn_params, y_init_eval, y_obs):\n",
    "    conditioned_sde = apply_nn_drift_sde(sde, nn_model, nn_params, y_obs)\n",
    "\n",
    "    rngs = random.split(rng, y_init_eval_arr.shape[0])\n",
    "    paths, _, __ = vmap(run_sde, in_axes=(0, None, None, 0), out_axes=(0))(\n",
    "        rngs, conditioned_sde, ts, y_init_eval_arr\n",
    "    )\n",
    "    samples = paths[:, -1, :]\n",
    "    log_image_grid(samples, label=\"samples\")\n",
    "    return 0\n",
    "\n",
    "\n",
    "metrics = {}\n",
    "metrics[\"sample\"] = sample_metric\n",
    "\n",
    "\n",
    "\n",
    "final_params, all_metrics, last_metrics = train_model(\n",
    "                rng,\n",
    "                ts,\n",
    "                nn_model,\n",
    "                nn_params,\n",
    "                metrics,\n",
    "                y_obs,\n",
    "                y_init_eval,\n",
    "                sde,\n",
    "                loss_function,\n",
    "                writer,\n",
    "                N_batches=config_template[\"N_batches\"],\n",
    "                N_batch_size=config_template[\"N_batch_size\"],\n",
    "                N_log=config_template[\"N_log\"],\n",
    "                N_samples_eval=config_template[\"N_samples_eval\"],\n",
    "            )\n",
    "\n",
    "wandb.finish()"
   ]
  },
  {
   "cell_type": "code",
   "execution_count": null,
   "metadata": {},
   "outputs": [],
   "source": []
  }
 ],
 "metadata": {
  "kernelspec": {
   "display_name": "Python 3",
   "language": "python",
   "name": "python3"
  },
  "language_info": {
   "codemirror_mode": {
    "name": "ipython",
    "version": 3
   },
   "file_extension": ".py",
   "mimetype": "text/x-python",
   "name": "python",
   "nbconvert_exporter": "python",
   "pygments_lexer": "ipython3",
   "version": "3.10.12"
  }
 },
 "nbformat": 4,
 "nbformat_minor": 2
}
