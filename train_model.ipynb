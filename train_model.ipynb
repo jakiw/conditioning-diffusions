{
 "cells": [
  {
   "cell_type": "code",
   "execution_count": null,
   "metadata": {},
   "outputs": [
    {
     "name": "stderr",
     "output_type": "stream",
     "text": [
      "2025-03-27 08:43:51.320198: E external/local_xla/xla/stream_executor/cuda/cuda_fft.cc:477] Unable to register cuFFT factory: Attempting to register factory for plugin cuFFT when one has already been registered\n",
      "WARNING: All log messages before absl::InitializeLog() is called are written to STDERR\n",
      "E0000 00:00:1743065031.328939   40368 cuda_dnn.cc:8310] Unable to register cuDNN factory: Attempting to register factory for plugin cuDNN when one has already been registered\n",
      "E0000 00:00:1743065031.333070   40368 cuda_blas.cc:1418] Unable to register cuBLAS factory: Attempting to register factory for plugin cuBLAS when one has already been registered\n",
      "/usr/lib/python3/dist-packages/requests/__init__.py:87: RequestsDependencyWarning: urllib3 (2.3.0) or chardet (4.0.0) doesn't match a supported version!\n",
      "  warnings.warn(\"urllib3 ({}) or chardet ({}) doesn't match a supported \"\n",
      "/usr/lib/python3/dist-packages/scipy/__init__.py:146: UserWarning: A NumPy version >=1.17.3 and <1.25.0 is required for this version of SciPy (detected version 1.26.4\n",
      "  warnings.warn(f\"A NumPy version >={np_minversion} and <{np_maxversion}\"\n"
     ]
    },
    {
     "name": "stdout",
     "output_type": "stream",
     "text": [
      "Using Jax Device: [CudaDevice(id=0)]\n"
     ]
    },
    {
     "name": "stderr",
     "output_type": "stream",
     "text": [
      "I0000 00:00:1743065033.583004   40368 gpu_device.cc:2022] Created device /job:localhost/replica:0/task:0/device:GPU:0 with 94391 MB memory:  -> device: 0, name: NVIDIA GH200 480GB, pci bus id: 0000:dd:00.0, compute capability: 9.0\n"
     ]
    },
    {
     "name": "stdout",
     "output_type": "stream",
     "text": [
      "initializing\n"
     ]
    },
    {
     "name": "stderr",
     "output_type": "stream",
     "text": [
      "WARNING:absl:Configured `CheckpointManager` using deprecated legacy API. Please follow the instructions at https://orbax.readthedocs.io/en/latest/api_refactor.html to migrate.\n",
      "WARNING:absl:[process=0][thread=MainThread] No metadata found for any process_index, checkpoint_dir=/home/ubuntu/WashingtonMain/conditioning-diffusions/flow_matching_jax/workdir/fashion_mnist/10500/default. time elapsed=0.00038170814514160156 seconds. If the checkpoint does not contain jax.Array then it is expected. If checkpoint contains jax.Array then it should lead to an error eventually; if no error is raised then it is a bug.\n",
      "\u001b[34m\u001b[1mwandb\u001b[0m: Using wandb-core as the SDK backend.  Please refer to https://wandb.me/wandb-core for more information.\n",
      "\u001b[34m\u001b[1mwandb\u001b[0m: Currently logged in as: \u001b[33mjakiw\u001b[0m (\u001b[33mjakiwteam\u001b[0m) to \u001b[32mhttps://api.wandb.ai\u001b[0m. Use \u001b[1m`wandb login --relogin`\u001b[0m to force relogin\n"
     ]
    },
    {
     "data": {
      "text/html": [
       "Tracking run with wandb version 0.19.8"
      ],
      "text/plain": [
       "<IPython.core.display.HTML object>"
      ]
     },
     "metadata": {},
     "output_type": "display_data"
    },
    {
     "data": {
      "text/html": [
       "Run data is saved locally in <code>/home/ubuntu/WashingtonMain/conditioning-diffusions/wandb/run-20250327_084418-5fw5fps8</code>"
      ],
      "text/plain": [
       "<IPython.core.display.HTML object>"
      ]
     },
     "metadata": {},
     "output_type": "display_data"
    },
    {
     "data": {
      "text/html": [
       "Syncing run <strong><a href='https://wandb.ai/jakiwteam/conditioning-diffusion-models/runs/5fw5fps8' target=\"_blank\">jumping-grass-33</a></strong> to <a href='https://wandb.ai/jakiwteam/conditioning-diffusion-models' target=\"_blank\">Weights & Biases</a> (<a href='https://wandb.me/developer-guide' target=\"_blank\">docs</a>)<br>"
      ],
      "text/plain": [
       "<IPython.core.display.HTML object>"
      ]
     },
     "metadata": {},
     "output_type": "display_data"
    },
    {
     "data": {
      "text/html": [
       " View project at <a href='https://wandb.ai/jakiwteam/conditioning-diffusion-models' target=\"_blank\">https://wandb.ai/jakiwteam/conditioning-diffusion-models</a>"
      ],
      "text/plain": [
       "<IPython.core.display.HTML object>"
      ]
     },
     "metadata": {},
     "output_type": "display_data"
    },
    {
     "data": {
      "text/html": [
       " View run at <a href='https://wandb.ai/jakiwteam/conditioning-diffusion-models/runs/5fw5fps8' target=\"_blank\">https://wandb.ai/jakiwteam/conditioning-diffusion-models/runs/5fw5fps8</a>"
      ],
      "text/plain": [
       "<IPython.core.display.HTML object>"
      ]
     },
     "metadata": {},
     "output_type": "display_data"
    },
    {
     "name": "stderr",
     "output_type": "stream",
     "text": [
      "Model Training: 100%|██████████| 5000/5000 [37:04<00:00,  2.25it/s]  \n"
     ]
    },
    {
     "data": {
      "text/html": [],
      "text/plain": [
       "<IPython.core.display.HTML object>"
      ]
     },
     "metadata": {},
     "output_type": "display_data"
    },
    {
     "data": {
      "text/html": [
       "<br>    <style><br>        .wandb-row {<br>            display: flex;<br>            flex-direction: row;<br>            flex-wrap: wrap;<br>            justify-content: flex-start;<br>            width: 100%;<br>        }<br>        .wandb-col {<br>            display: flex;<br>            flex-direction: column;<br>            flex-basis: 100%;<br>            flex: 1;<br>            padding: 10px;<br>        }<br>    </style><br><div class=\"wandb-row\"><div class=\"wandb-col\"><h3>Run history:</h3><br/><table class=\"wandb\"><tr><td>grad_variance</td><td>█▁▁▁▁▁▁▁▁▁</td></tr><tr><td>loss</td><td>█▂▂▃▂▂▂▂▁▂</td></tr><tr><td>step</td><td>▁▁▂▂▃▃▃▃▄▄▅▅▆▆▆▆▇▇██</td></tr></table><br/></div><div class=\"wandb-col\"><h3>Run summary:</h3><br/><table class=\"wandb\"><tr><td>grad_variance</td><td>0.4759</td></tr><tr><td>loss</td><td>1237.4552</td></tr><tr><td>step</td><td>5000</td></tr></table><br/></div></div>"
      ],
      "text/plain": [
       "<IPython.core.display.HTML object>"
      ]
     },
     "metadata": {},
     "output_type": "display_data"
    },
    {
     "data": {
      "text/html": [
       " View run <strong style=\"color:#cdcd00\">jumping-grass-33</strong> at: <a href='https://wandb.ai/jakiwteam/conditioning-diffusion-models/runs/5fw5fps8' target=\"_blank\">https://wandb.ai/jakiwteam/conditioning-diffusion-models/runs/5fw5fps8</a><br> View project at: <a href='https://wandb.ai/jakiwteam/conditioning-diffusion-models' target=\"_blank\">https://wandb.ai/jakiwteam/conditioning-diffusion-models</a><br>Synced 5 W&B file(s), 20 media file(s), 0 artifact file(s) and 0 other file(s)"
      ],
      "text/plain": [
       "<IPython.core.display.HTML object>"
      ]
     },
     "metadata": {},
     "output_type": "display_data"
    },
    {
     "data": {
      "text/html": [
       "Find logs at: <code>./wandb/run-20250327_084418-5fw5fps8/logs</code>"
      ],
      "text/plain": [
       "<IPython.core.display.HTML object>"
      ]
     },
     "metadata": {},
     "output_type": "display_data"
    }
   ],
   "source": [
    "import os\n",
    "import pickle\n",
    "\n",
    "import jax\n",
    "# jax.config.update(\"jax_debug_nans\", True)\n",
    "# jax.config.update(\"jax_disable_jit\", True)\n",
    "\n",
    "import jax.numpy as jnp\n",
    "import pandas as pd\n",
    "from jax import random\n",
    "\n",
    "from metrics.metrics import get_energy_metric\n",
    "\n",
    "from helpers import apply_function\n",
    "from losses.loss_and_model import loss_model_bel, loss_model_no_train, loss_model_reparam\n",
    "from problems.toy_problems import dm_toy_problem, double_well_toy_problem, double_well_toy_problem_opening, ou_toy_problem\n",
    "from training.train_model import train_model\n",
    "from problems.diffusion_model import get_problem as get_problem_dm\n",
    "\n",
    "import datetime\n",
    "import tensorflow as tf\n",
    "from tensorboard.plugins.hparams import api as hp\n",
    "\n",
    "from flow_matching_jax.configs.fashion_mnist import get_config\n",
    "import wandb\n",
    "import matplotlib.pyplot as plt\n",
    "\n",
    "print(f\"Using Jax Device: {jax.devices()}\")\n",
    "\n",
    "log_dir = \"logs/diffusion_model\"\n",
    "writer = tf.summary.create_file_writer(log_dir)\n",
    "\n",
    "# dim = 1\n",
    "ts = jnp.linspace(0, 1, 100, dtype=jnp.float32)\n",
    "\n",
    "# loss_models = [\n",
    "#     {\"function\": loss_model_bel, \"args\": (\"first\",)},\n",
    "#     # {\"function\": loss_model_bel, \"args\": (\"average\",)},\n",
    "#     # {\"function\": loss_model_bel, \"args\": (\"first\",)},\n",
    "#     # {\"function\": loss_model_bel, \"args\": (\"last\",)},\n",
    "#     # {\"function\": loss_model_reparam, \"args\": ()},\n",
    "#     # {\"function\": loss_model_no_train, \"args\": ()},\n",
    "# ]\n",
    "\n",
    "def upper_left_quarter(image):\n",
    "    h, w = image.shape[:2]\n",
    "    return image[:h // 2, :w // 2]\n",
    "\n",
    "def upper_half(image):\n",
    "    h, w = image.shape[:2]\n",
    "    return image[:h // 2]\n",
    "\n",
    "def full_image(image):\n",
    "    return image\n",
    "\n",
    "config = get_config()\n",
    "workdir = \"/home/ubuntu/WashingtonMain/conditioning-diffusions/flow_matching_jax/workdir/fashion_mnist\"\n",
    "problem = get_problem_dm(config, workdir, ts, full_image)\n",
    "# problems = [double_well_toy_problem(3, D=dim), dm_toy_problem(D=dim),  ou_toy_problem(2, D=dim), ou_toy_problem(-2, D=dim), ou_toy_problem(0, D=dim)]\n",
    "loss_model = loss_model_bel(\"first\")\n",
    "\n",
    "# jax.config.update('jax_log_compiles', True)\n",
    "\n",
    "config_template = {\n",
    "    \"seed\": 2025,\n",
    "    \"loss_model\": \"NOT DEFINED\",\n",
    "    \"problem\": \"NOT DEFINED\",\n",
    "    \"N_batches\": 5000,\n",
    "    \"N_log\": 500,\n",
    "    \"N_samples_eval\": 16,\n",
    "    \"N_batch_size\": 32,\n",
    "    \"ts\": ts,\n",
    "    \"n_rngs\": 1,\n",
    "}\n",
    "\n",
    "rng = random.PRNGKey(config_template[\"seed\"])\n",
    "rngs = random.split(rng, config_template[\"n_rngs\"])\n",
    "\n",
    "experiment_dir = f\"temp\"\n",
    "os.makedirs(experiment_dir, exist_ok=True)  # Create the directory if it doesn't exist\n",
    "timestamp = datetime.datetime.now().strftime(\"%H%M%S-%m%d\")\n",
    "run_dir = f\"{log_dir}/run-{timestamp}\"\n",
    "writer = tf.summary.create_file_writer(run_dir)\n",
    "\n",
    "sde, metrics, get_obs, y_obs, y_init_eval, problem_name = problem\n",
    "loss_function, nn_model, loss_name = loss_model\n",
    "\n",
    "\n",
    "from flow_matching_jax.models.conditional_unet import Unet as ConditionalUnet\n",
    "nn_model = ConditionalUnet(\n",
    "    dim = 64,\n",
    "    dim_mults = (1, 2)\n",
    ")\n",
    "\n",
    "_t = 0.0\n",
    "_y = y_init_eval\n",
    "nn_params = nn_model.init(rng, _t, _y, _y)\n",
    "\n",
    "wandb.init(project=\"conditioning-diffusion-models\")\n",
    "\n",
    "final_params, all_metrics, last_metrics = train_model(\n",
    "                rng,\n",
    "                ts,\n",
    "                nn_model,\n",
    "                nn_params,\n",
    "                metrics,\n",
    "                y_obs,\n",
    "                y_init_eval,\n",
    "                sde,\n",
    "                loss_function,\n",
    "                get_obs,\n",
    "                N_batches=config_template[\"N_batches\"],\n",
    "                N_batch_size=config_template[\"N_batch_size\"],\n",
    "                N_log=config_template[\"N_log\"],\n",
    "                N_samples_eval=config_template[\"N_samples_eval\"],\n",
    "            )\n",
    "\n",
    "wandb.finish()"
   ]
  },
  {
   "cell_type": "code",
   "execution_count": null,
   "metadata": {},
   "outputs": [],
   "source": []
  }
 ],
 "metadata": {
  "kernelspec": {
   "display_name": "Python 3",
   "language": "python",
   "name": "python3"
  },
  "language_info": {
   "codemirror_mode": {
    "name": "ipython",
    "version": 3
   },
   "file_extension": ".py",
   "mimetype": "text/x-python",
   "name": "python",
   "nbconvert_exporter": "python",
   "pygments_lexer": "ipython3",
   "version": "3.10.12"
  }
 },
 "nbformat": 4,
 "nbformat_minor": 2
}
